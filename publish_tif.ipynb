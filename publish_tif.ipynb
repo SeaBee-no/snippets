{
 "cells": [
  {
   "cell_type": "code",
   "execution_count": 9,
   "metadata": {},
   "outputs": [],
   "source": [
    "import os\n",
    "from geo.Geoserver import Geoserver\n",
    "import glob\n",
    "from config import SETTINGS"
   ]
  },
  {
   "cell_type": "markdown",
   "metadata": {},
   "source": [
    "We have set up a sample geoserver data directory"
   ]
  },
  {
   "cell_type": "code",
   "execution_count": 19,
   "metadata": {},
   "outputs": [
    {
     "data": {
      "text/plain": [
       "['/home/notebook/shared-seabee-ns9879k/seabee-geoserver-data/samples/ne_akeroya_rgb_ms_5cm_compress_8bit.tif',\n",
       " '/home/notebook/shared-seabee-ns9879k/seabee-geoserver-data/samples/akeroya_ms_10cm_8bit_compress.tif']"
      ]
     },
     "execution_count": 19,
     "metadata": {},
     "output_type": "execute_result"
    }
   ],
   "source": [
    "tiff_files = glob.glob(\n",
    "    r\"/home/notebook/shared-seabee-ns9879k/seabee-geoserver-data/samples/*.tif\"\n",
    ")\n",
    "tif_files"
   ]
  },
  {
   "cell_type": "markdown",
   "metadata": {},
   "source": [
    "also see [geoserver_rest](https://geoserver-rest.readthedocs.io/en/latest/advanced_uses.html)"
   ]
  },
  {
   "cell_type": "code",
   "execution_count": 8,
   "metadata": {},
   "outputs": [],
   "source": [
    "geo = Geoserver(\n",
    "    \"https://geonode.seabee.sigma2.no/geoserver\",\n",
    "    username=SETTINGS.GEOSERVER_USER,\n",
    "    password=SETTINGS.GEOSERVER_PASSWORD,\n",
    ")"
   ]
  },
  {
   "cell_type": "code",
   "execution_count": 22,
   "metadata": {},
   "outputs": [
    {
     "name": "stdout",
     "output_type": "stream",
     "text": [
      "The coveragestore has been created successfully!\n",
      "The coveragestore has been created successfully!\n"
     ]
    }
   ],
   "source": [
    "for file_path in tiff_files:\n",
    "    file_name = os.path.basename(file_path)\n",
    "\n",
    "    # Removing extension for layer name\n",
    "    layer_name = \"sample_\" + os.path.splitext(file_name)[0]\n",
    "    # Will overwrite layer if it exists\n",
    "    status = geo.create_coveragestore(\n",
    "        layer_name=layer_name, path=file_path, workspace=\"geonode\"\n",
    "    )\n",
    "    print(status)"
   ]
  }
 ],
 "metadata": {
  "kernelspec": {
   "display_name": "snippets",
   "language": "python",
   "name": "snippets"
  },
  "language_info": {
   "codemirror_mode": {
    "name": "ipython",
    "version": 3
   },
   "file_extension": ".py",
   "mimetype": "text/x-python",
   "name": "python",
   "nbconvert_exporter": "python",
   "pygments_lexer": "ipython3",
   "version": "3.10.6"
  }
 },
 "nbformat": 4,
 "nbformat_minor": 4
}
