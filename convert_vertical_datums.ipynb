{
 "cells": [
  {
   "cell_type": "code",
   "execution_count": 1,
   "id": "0ca8664d-5523-46d9-8e6b-558aca29eb52",
   "metadata": {},
   "outputs": [],
   "source": [
    "import pyproj"
   ]
  },
  {
   "cell_type": "markdown",
   "id": "744fb316-9004-4799-8562-e12f7ec16e4e",
   "metadata": {},
   "source": [
    "# Converting between vertical datums\n",
    "\n",
    "SeaBee pilots need to be able to convert between vertical datums as well as perform 2D co-ordinate conversions. This notebook explores options using [PyProj](https://pyproj4.github.io/pyproj/stable/index.html).\n",
    "\n",
    "## Background\n",
    "\n",
    "CRSs may be 2D or 3D. 3D systems use a 2D CRS for (x, y), plus an additional axis for elevations. For example, [EPSG 4326](https://epsg.org/crs_4326/WGS-84.html) is a 2D geographic CRS measured relative to the WGS84 ellipsoid, whereas [EPSG 4979](https://epsg.org/crs_4979/WGS-84.html) is the 3D equivalent, where x and y are longitude and latitude (just like for EPSG 4326) and z is elevation in metres measured relative to the WGS84 ellipsoid. \n",
    "\n",
    "It is also possible to have projected co-ordinates for x and y, with elevations measured relative to various underlying height models. For example, [EPSG 25833](https://epsg.org/crs_25833/ETRS89-UTM-zone-33N.html) is a 2D projected system (UTM Zone 33N) relative to the ETRS89 datum, while [EPSG 5973](https://epsg.org/crs_5973/ETRS89-UTM-zone-33N-NN2000-height.html) is a 3D compound CRS combining ETRS89 UTM Zone 33N with the NN2000 height model (which is the most up-to-date height model for Norway).\n",
    "\n",
    "[This](https://register.geonorge.no/epsg-koder) website provides EPSG codes for various CRSs relevant to Norway. [This](https://gis.stackexchange.com/a/385738/2131) post from Stack Exchange is also helpful.\n",
    "\n",
    "## Proj data\n",
    "\n",
    "By default, Proj only installs the most commonly used transformation files. Sometimes it gives helpful errors when files are missing, but in some cases it fails \"silently\" i.e. the input co-ordinates are returned unchanged, but it otherwise everything seems to work. This problem can be solved by installing the necessary data files or, if disk space is not an issue, just installing everything using \n",
    "\n",
    "    mamba install -c conda-forge proj-data"
   ]
  },
  {
   "cell_type": "code",
   "execution_count": 2,
   "id": "74d48a88-b9cf-4586-bdbb-12527cf577e5",
   "metadata": {},
   "outputs": [],
   "source": [
    "# Test co-ords for near Larvik\n",
    "lng = 10.13157\n",
    "lat = 59.00788\n",
    "z = 0\n",
    "\n",
    "# WGS84 for horizontal and vertical components\n",
    "in_crs = pyproj.crs.CRS.from_epsg(4979)\n",
    "\n",
    "# ETRS89 UTM Zone 33N for horizontal and NN2000 for vertical\n",
    "out_crs = pyproj.crs.CRS.from_epsg(5973)"
   ]
  },
  {
   "cell_type": "code",
   "execution_count": 3,
   "id": "87762595-6a8e-455d-ac65-e9be8b3711ff",
   "metadata": {},
   "outputs": [
    {
     "data": {
      "text/plain": [
       "<Geographic 3D CRS: EPSG:4979>\n",
       "Name: WGS 84\n",
       "Axis Info [ellipsoidal]:\n",
       "- Lat[north]: Geodetic latitude (degree)\n",
       "- Lon[east]: Geodetic longitude (degree)\n",
       "- h[up]: Ellipsoidal height (metre)\n",
       "Area of Use:\n",
       "- name: World: Afghanistan, Albania, Algeria, American Samoa, Andorra, Angola, Anguilla, Antarctica, Antigua and Barbuda, Argentina, Armenia, Aruba, Australia, Austria, Azerbaijan, Bahamas, Bahrain, Bangladesh, Barbados, Belgium, Belgium, Belize, Benin, Bermuda, Bhutan, Bolivia, Bonaire, Saint Eustasius and Saba, Bosnia and Herzegovina, Botswana, Bouvet Island, Brazil, British Indian Ocean Territory, British Virgin Islands, Brunei Darussalam, Bulgaria, Burkina Faso, Burundi, Cambodia, Cameroon, Canada, Cape Verde, Cayman Islands, Central African Republic, Chad, Chile, China, Christmas Island, Cocos (Keeling) Islands, Comoros, Congo, Cook Islands, Costa Rica, Côte d'Ivoire (Ivory Coast), Croatia, Cuba, Curacao, Cyprus, Czechia, Denmark, Djibouti, Dominica, Dominican Republic, East Timor, Ecuador, Egypt, El Salvador, Equatorial Guinea, Eritrea, Estonia, Eswatini (Swaziland), Ethiopia, Falkland Islands (Malvinas), Faroe Islands, Fiji, Finland, France, French Guiana, French Polynesia, French Southern Territories, Gabon, Gambia, Georgia, Germany, Ghana, Gibraltar, Greece, Greenland, Grenada, Guadeloupe, Guam, Guatemala, Guinea, Guinea-Bissau, Guyana, Haiti, Heard Island and McDonald Islands, Holy See (Vatican City State), Honduras, China - Hong Kong, Hungary, Iceland, India, Indonesia, Islamic Republic of Iran, Iraq, Ireland, Israel, Italy, Jamaica, Japan, Jordan, Kazakhstan, Kenya, Kiribati, Democratic People's Republic of Korea (North Korea), Republic of Korea (South Korea), Kosovo, Kuwait, Kyrgyzstan, Lao People's Democratic Republic (Laos), Latvia, Lebanon, Lesotho, Liberia, Libyan Arab Jamahiriya, Liechtenstein, Lithuania, Luxembourg, China - Macao, Madagascar, Malawi, Malaysia, Maldives, Mali, Malta, Marshall Islands, Martinique, Mauritania, Mauritius, Mayotte, Mexico, Federated States of Micronesia, Monaco, Mongolia, Montenegro, Montserrat, Morocco, Mozambique, Myanmar (Burma), Namibia, Nauru, Nepal, Netherlands, New Caledonia, New Zealand, Nicaragua, Niger, Nigeria, Niue, Norfolk Island, North Macedonia, Northern Mariana Islands, Norway, Oman, Pakistan, Palau, Panama, Papua New Guinea (PNG), Paraguay, Peru, Philippines, Pitcairn, Poland, Portugal, Puerto Rico, Qatar, Reunion, Romania, Russian Federation, Rwanda, Saint Kitts and Nevis, Saint Helena, Ascension and Tristan da Cunha, Saint Lucia, Saint Pierre and Miquelon, Saint Vincent and the Grenadines, Samoa, San Marino, Sao Tome and Principe, Saudi Arabia, Senegal, Serbia, Seychelles, Sierra Leone, Singapore, Slovakia (Slovak Republic), Slovenia, Sint Maarten, Solomon Islands, Somalia, South Africa, South Georgia and the South Sandwich Islands, South Sudan, Spain, Sri Lanka, Sudan, Suriname, Svalbard and Jan Mayen, Sweden, Switzerland, Syrian Arab Republic, Taiwan, Tajikistan, United Republic of Tanzania, Thailand, The Democratic Republic of the Congo (Zaire), Togo, Tokelau, Tonga, Trinidad and Tobago, Tunisia, Turkey, Turkmenistan, Turks and Caicos Islands, Tuvalu, Uganda, Ukraine, United Arab Emirates (UAE), United Kingdom (UK), United States (USA), United States Minor Outlying Islands, Uruguay, Uzbekistan, Vanuatu, Venezuela, Vietnam, US Virgin Islands, Wallis and Futuna, Western Sahara, Yemen, Zambia, Zimbabwe.\n",
       "- bounds: (-180.0, -90.0, 180.0, 90.0)\n",
       "Datum: World Geodetic System 1984 ensemble\n",
       "- Ellipsoid: WGS 84\n",
       "- Prime Meridian: Greenwich"
      ]
     },
     "execution_count": 3,
     "metadata": {},
     "output_type": "execute_result"
    }
   ],
   "source": [
    "in_crs"
   ]
  },
  {
   "cell_type": "code",
   "execution_count": 4,
   "id": "0ec39a7f-ac90-40a5-b8d6-36533b09903c",
   "metadata": {},
   "outputs": [
    {
     "data": {
      "text/plain": [
       "<Compound CRS: EPSG:5973>\n",
       "Name: ETRS89 / UTM zone 33N + NN2000 height\n",
       "Axis Info [cartesian|vertical]:\n",
       "- E[east]: Easting (metre)\n",
       "- N[north]: Northing (metre)\n",
       "- H[up]: Gravity-related height (metre)\n",
       "Area of Use:\n",
       "- name: Norway - onshore - between 12°E and 18°E.\n",
       "- bounds: (12.0, 59.88, 18.01, 69.68)\n",
       "Datum: European Terrestrial Reference System 1989 ensemble\n",
       "- Ellipsoid: GRS 1980\n",
       "- Prime Meridian: Greenwich\n",
       "Sub CRS:\n",
       "- ETRS89 / UTM zone 33N\n",
       "- NN2000 height"
      ]
     },
     "execution_count": 4,
     "metadata": {},
     "output_type": "execute_result"
    }
   ],
   "source": [
    "out_crs"
   ]
  },
  {
   "cell_type": "code",
   "execution_count": 5,
   "id": "8211ed20-cb38-462d-9a4b-9e078c9458f1",
   "metadata": {},
   "outputs": [
    {
     "data": {
      "text/plain": [
       "(220519.58047844184, 6551117.485868912, -39.71352391052247)"
      ]
     },
     "execution_count": 5,
     "metadata": {},
     "output_type": "execute_result"
    }
   ],
   "source": [
    "# Build transformer\n",
    "tform = pyproj.transformer.Transformer.from_crs(\n",
    "    crs_from=in_crs, crs_to=out_crs, always_xy=True\n",
    ")\n",
    "tform.transform(lng, lat, z)"
   ]
  },
  {
   "cell_type": "markdown",
   "id": "f542c280-1424-4123-a1b4-d32722cc42e3",
   "metadata": {},
   "source": [
    "In other words, the WGS84 ellipsoid is 39.7 m above the surface of NN2000 in the area around Larvik. "
   ]
  }
 ],
 "metadata": {
  "kernelspec": {
   "display_name": "Python 3 (ipykernel)",
   "language": "python",
   "name": "python3"
  },
  "language_info": {
   "codemirror_mode": {
    "name": "ipython",
    "version": 3
   },
   "file_extension": ".py",
   "mimetype": "text/x-python",
   "name": "python",
   "nbconvert_exporter": "python",
   "pygments_lexer": "ipython3",
   "version": "3.10.6"
  }
 },
 "nbformat": 4,
 "nbformat_minor": 5
}
