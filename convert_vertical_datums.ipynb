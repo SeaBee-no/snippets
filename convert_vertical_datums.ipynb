{
 "cells": [
  {
   "cell_type": "code",
   "execution_count": 1,
   "id": "0ca8664d-5523-46d9-8e6b-558aca29eb52",
   "metadata": {},
   "outputs": [],
   "source": [
    "import os\n",
    "\n",
    "import pandas as pd\n",
    "import pyproj"
   ]
  },
  {
   "cell_type": "markdown",
   "id": "744fb316-9004-4799-8562-e12f7ec16e4e",
   "metadata": {},
   "source": [
    "# Converting between vertical datums\n",
    "\n",
    "SeaBee pilots need to be able to convert between vertical datums as well as perform 2D co-ordinate conversions. This notebook explores options using [PyProj](https://pyproj4.github.io/pyproj/stable/index.html).\n",
    "\n",
    "## 1. Background\n",
    "\n",
    "CRSs may be 2D or 3D. 3D systems use a 2D CRS for (x, y), plus an additional axis for elevations. For example, [EPSG 4326](https://epsg.org/crs_4326/WGS-84.html) is a 2D geographic CRS measured relative to the WGS84 ellipsoid, whereas [EPSG 4979](https://epsg.org/crs_4979/WGS-84.html) is the 3D equivalent, where x and y are longitude and latitude (just like for EPSG 4326) and z is elevation in metres measured relative to the WGS84 ellipsoid. \n",
    "\n",
    "It is also possible to have projected co-ordinates for x and y, with elevations measured relative to various underlying height models. For example, [EPSG 25833](https://epsg.org/crs_25833/ETRS89-UTM-zone-33N.html) is a 2D projected system (UTM Zone 33N) relative to the ETRS89 datum, while [EPSG 5973](https://epsg.org/crs_5973/ETRS89-UTM-zone-33N-NN2000-height.html) is a 3D compound CRS combining ETRS89 UTM Zone 33N with the NN2000 height model (which is the most up-to-date height model for Norway).\n",
    "\n",
    "[This](https://register.geonorge.no/epsg-koder) website provides EPSG codes for various CRSs relevant to Norway. [This](https://gis.stackexchange.com/a/385738/2131) post from Stack Exchange is also helpful.\n",
    "\n",
    "## 2. Proj data\n",
    "\n",
    "By default, Proj only installs the most commonly used transformation files. Sometimes it gives helpful errors when files are missing, but in some cases it fails \"silently\" i.e. the input co-ordinates are returned unchanged, but it otherwise everything seems to work. This problem can be solved by installing the necessary data files or, if disk space is not an issue, just installing everything using \n",
    "\n",
    "    mamba install -c conda-forge proj-data\n",
    "\n",
    "## 3. Convert NN2000 vertical datum to WGS84\n",
    "\n",
    "The code below assumes an input file containing `x` and `y` values in ETRS89-UTM co-ordinates and `z` values in metres expressed relative to NN2000. The `x` and `y` co-ordinates are left unchanged, while the `z` values are expressed relative to the WGS84 datum."
   ]
  },
  {
   "cell_type": "markdown",
   "id": "515d56c6-7ad7-40e7-b1e9-ca7ec65ce29e",
   "metadata": {},
   "source": [
    "### 3.1. User input"
   ]
  },
  {
   "cell_type": "code",
   "execution_count": 2,
   "id": "dab2372e-a7ce-4bee-9ad9-2555d7955db6",
   "metadata": {},
   "outputs": [],
   "source": [
    "utm_zone = 32\n",
    "file_path = \"~/convert_vertical_datum/202300505_gcps.csv\""
   ]
  },
  {
   "cell_type": "markdown",
   "id": "0a9a02ca-6372-43a7-8193-26c6253d6cfa",
   "metadata": {},
   "source": [
    "### 3.2. Convert"
   ]
  },
  {
   "cell_type": "code",
   "execution_count": 3,
   "id": "00fff583-7fe6-41cf-abeb-52ac9d9e9557",
   "metadata": {},
   "outputs": [
    {
     "data": {
      "text/html": [
       "<div>\n",
       "<style scoped>\n",
       "    .dataframe tbody tr th:only-of-type {\n",
       "        vertical-align: middle;\n",
       "    }\n",
       "\n",
       "    .dataframe tbody tr th {\n",
       "        vertical-align: top;\n",
       "    }\n",
       "\n",
       "    .dataframe thead th {\n",
       "        text-align: right;\n",
       "    }\n",
       "</style>\n",
       "<table border=\"1\" class=\"dataframe\">\n",
       "  <thead>\n",
       "    <tr style=\"text-align: right;\">\n",
       "      <th></th>\n",
       "      <th>id</th>\n",
       "      <th>x</th>\n",
       "      <th>y</th>\n",
       "      <th>z</th>\n",
       "    </tr>\n",
       "  </thead>\n",
       "  <tbody>\n",
       "    <tr>\n",
       "      <th>0</th>\n",
       "      <td>GS18T_1</td>\n",
       "      <td>565025.763</td>\n",
       "      <td>6541468.499</td>\n",
       "      <td>41.510</td>\n",
       "    </tr>\n",
       "    <tr>\n",
       "      <th>1</th>\n",
       "      <td>GS18T_2</td>\n",
       "      <td>565043.528</td>\n",
       "      <td>6541413.865</td>\n",
       "      <td>44.673</td>\n",
       "    </tr>\n",
       "    <tr>\n",
       "      <th>2</th>\n",
       "      <td>GS18T_3</td>\n",
       "      <td>565074.924</td>\n",
       "      <td>6541368.255</td>\n",
       "      <td>40.215</td>\n",
       "    </tr>\n",
       "    <tr>\n",
       "      <th>3</th>\n",
       "      <td>GS18T_4</td>\n",
       "      <td>565108.528</td>\n",
       "      <td>6541304.199</td>\n",
       "      <td>40.671</td>\n",
       "    </tr>\n",
       "    <tr>\n",
       "      <th>4</th>\n",
       "      <td>GS18T_5</td>\n",
       "      <td>564998.028</td>\n",
       "      <td>6541340.293</td>\n",
       "      <td>40.200</td>\n",
       "    </tr>\n",
       "  </tbody>\n",
       "</table>\n",
       "</div>"
      ],
      "text/plain": [
       "        id           x            y       z\n",
       "0  GS18T_1  565025.763  6541468.499  41.510\n",
       "1  GS18T_2  565043.528  6541413.865  44.673\n",
       "2  GS18T_3  565074.924  6541368.255  40.215\n",
       "3  GS18T_4  565108.528  6541304.199  40.671\n",
       "4  GS18T_5  564998.028  6541340.293  40.200"
      ]
     },
     "execution_count": 3,
     "metadata": {},
     "output_type": "execute_result"
    }
   ],
   "source": [
    "# Identify input EPSG\n",
    "valid_zones = range(31, 36)\n",
    "assert utm_zone in valid_zones, \"'utm_zone' must be an integer between 31 and 35.\"\n",
    "input_crs = 5940 + utm_zone\n",
    "\n",
    "# Read data\n",
    "df = pd.read_csv(file_path, sep=\";\", names=[\"id\", \"x\", \"y\", \"z\"])\n",
    "\n",
    "# Setup projections\n",
    "src_crs = pyproj.crs.CRS.from_epsg(input_crs)\n",
    "wgs84_3d_crs = pyproj.crs.CRS.from_epsg(4979)\n",
    "\n",
    "# Convert\n",
    "transformer = pyproj.transformer.Transformer.from_crs(\n",
    "    crs_from=src_crs, crs_to=wgs84_3d_crs, always_xy=True\n",
    ")\n",
    "x_wgs84, y_wgs84, df[\"z\"] = transformer.transform(df.x, df.y, df.z)\n",
    "df['z'] = df['z'].round(3)\n",
    "\n",
    "# Save \n",
    "base_name, extension = os.path.splitext(file_path)\n",
    "csv_path = base_name + \"_converted\" + extension\n",
    "df.to_csv(csv_path, index=False, header=None, sep=\";\")\n",
    "\n",
    "df.head()"
   ]
  }
 ],
 "metadata": {
  "kernelspec": {
   "display_name": "Python 3 (ipykernel)",
   "language": "python",
   "name": "python3"
  },
  "language_info": {
   "codemirror_mode": {
    "name": "ipython",
    "version": 3
   },
   "file_extension": ".py",
   "mimetype": "text/x-python",
   "name": "python",
   "nbconvert_exporter": "python",
   "pygments_lexer": "ipython3",
   "version": "3.10.6"
  }
 },
 "nbformat": 4,
 "nbformat_minor": 5
}
