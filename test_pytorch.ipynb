{
 "cells": [
  {
   "cell_type": "code",
   "execution_count": 1,
   "id": "556fd55c-9fa5-4451-b52d-66af195836eb",
   "metadata": {},
   "outputs": [],
   "source": [
    "import torch"
   ]
  },
  {
   "cell_type": "markdown",
   "id": "aa372ed9-7b86-46b9-b695-26d83275dbee",
   "metadata": {},
   "source": [
    "# Testing PyTorch\n",
    "\n",
    "Testing PyTorch on the Sigma2 Hub."
   ]
  },
  {
   "cell_type": "code",
   "execution_count": 13,
   "id": "6e73b90b-27dd-4241-9f26-c2c245385496",
   "metadata": {},
   "outputs": [
    {
     "name": "stdout",
     "output_type": "stream",
     "text": [
      "Is GPU available? False\n",
      "0\n",
      "Unexpected Found no NVIDIA driver on your system. Please check that you have an NVIDIA GPU and installed a driver from http://www.nvidia.com/Download/index.aspx\n",
      "Unexpected err=RuntimeError('Found no NVIDIA driver on your system. Please check that you have an NVIDIA GPU and installed a driver from http://www.nvidia.com/Download/index.aspx')\n"
     ]
    }
   ],
   "source": [
    "# Can we access GPUs?\n",
    "\n",
    "print(f\"Is GPU available? {torch.cuda.is_available()}\")\n",
    "\n",
    "try:\n",
    "print(torch.cuda.device_count())\n",
    "except RuntimeError as err:\n",
    "    print(f\"Unexpected {err}\")\n",
    "\n",
    "try:\n",
    "    print(torch.cuda.current_device())\n",
    "except RuntimeError as err:\n",
    "    print(f\"Unexpected {err}\")\n",
    "\n",
    "try:\n",
    "    print(torch.cuda.get_device_name(0))\n",
    "except RuntimeError as err:\n",
    "    print(f\"Unexpected {err=}\")\n"
   ]
  },
  {
   "cell_type": "code",
   "execution_count": null,
   "id": "4857b04f-b4b2-47a9-b563-c01b2a4a1f47",
   "metadata": {},
   "outputs": [],
   "source": []
  },
  {
   "cell_type": "code",
   "execution_count": 3,
   "id": "d6affd83-262d-46cc-af43-7fee1ccab789",
   "metadata": {},
   "outputs": [],
   "source": [
    "# Add more here..."
   ]
  }
 ],
 "metadata": {
  "kernelspec": {
   "display_name": "Python 3 (ipykernel)",
   "language": "python",
   "name": "python3"
  },
  "language_info": {
   "codemirror_mode": {
    "name": "ipython",
    "version": 3
   },
   "file_extension": ".py",
   "mimetype": "text/x-python",
   "name": "python",
   "nbconvert_exporter": "python",
   "pygments_lexer": "ipython3",
   "version": "3.10.6"
  }
 },
 "nbformat": 4,
 "nbformat_minor": 5
}
