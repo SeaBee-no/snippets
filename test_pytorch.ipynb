{
 "cells": [
  {
   "cell_type": "code",
   "execution_count": 1,
   "id": "556fd55c-9fa5-4451-b52d-66af195836eb",
   "metadata": {},
   "outputs": [],
   "source": [
    "import torch"
   ]
  },
  {
   "cell_type": "markdown",
   "id": "aa372ed9-7b86-46b9-b695-26d83275dbee",
   "metadata": {},
   "source": [
    "# Testing PyTorch\n",
    "\n",
    "Testing PyTorch on the Sigma2 Hub."
   ]
  },
  {
   "cell_type": "code",
   "execution_count": 16,
   "id": "6e73b90b-27dd-4241-9f26-c2c245385496",
   "metadata": {},
   "outputs": [
    {
     "name": "stdout",
     "output_type": "stream",
     "text": [
      "Is GPU available? False\n",
      "\n",
      "Number of GPU available: 0\n",
      "\n",
      "[ERROR] Found no NVIDIA driver on your system. Please check that you have an NVIDIA GPU and installed a driver from http://www.nvidia.com/Download/index.aspx\n",
      "\n",
      "[ERROR] Found no NVIDIA driver on your system. Please check that you have an NVIDIA GPU and installed a driver from http://www.nvidia.com/Download/index.aspx\n",
      "\n"
     ]
    }
   ],
   "source": [
    "# Can we access GPUs?\n",
    "\n",
    "print(f\"Is GPU available? {torch.cuda.is_available()}\\n\")\n",
    "print(f\"Number of GPU available: {torch.cuda.device_count()}\\n\")\n",
    "\n",
    "try:\n",
    "    print(torch.cuda.current_device())\n",
    "except RuntimeError as err:\n",
    "    print(f\"[ERROR] {err}\\n\")\n",
    "\n",
    "try:\n",
    "    print(torch.cuda.get_device_name(0))\n",
    "except RuntimeError as err:\n",
    "    print(f\"[ERROR] {err}\\n\")"
   ]
  },
  {
   "cell_type": "code",
   "execution_count": 3,
   "id": "d6affd83-262d-46cc-af43-7fee1ccab789",
   "metadata": {},
   "outputs": [],
   "source": [
    "# Add more here..."
   ]
  }
 ],
 "metadata": {
  "kernelspec": {
   "display_name": "Python 3 (ipykernel)",
   "language": "python",
   "name": "python3"
  },
  "language_info": {
   "codemirror_mode": {
    "name": "ipython",
    "version": 3
   },
   "file_extension": ".py",
   "mimetype": "text/x-python",
   "name": "python",
   "nbconvert_exporter": "python",
   "pygments_lexer": "ipython3",
   "version": "3.10.6"
  }
 },
 "nbformat": 4,
 "nbformat_minor": 5
}
