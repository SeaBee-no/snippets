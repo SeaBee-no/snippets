{
 "cells": [
  {
   "cell_type": "code",
   "execution_count": 1,
   "id": "987eed33-9e8f-4dea-9976-eea8d7b539cf",
   "metadata": {},
   "outputs": [],
   "source": [
    "import time\n",
    "from pathlib import Path\n",
    "\n",
    "from pyodm import Node\n",
    "from tqdm.notebook import tqdm"
   ]
  },
  {
   "cell_type": "markdown",
   "id": "e1445903-bd65-4a30-87d6-63fd9edcdd30",
   "metadata": {},
   "source": [
    "# NodeODM\n",
    "\n",
    "We have [NodeODM](https://github.com/OpenDroneMap/NodeODM) running as a service on `http://nodeodm`. This service is currently only reachable from the Hub.\n",
    "\n",
    "## 1. Connect to NodeODM\n",
    "\n",
    "### 1.1. Bash"
   ]
  },
  {
   "cell_type": "code",
   "execution_count": 2,
   "id": "5db08e1d-c8b5-4270-b3fa-ab4d22d7f32b",
   "metadata": {},
   "outputs": [
    {
     "name": "stderr",
     "output_type": "stream",
     "text": [
      "  % Total    % Received % Xferd  Average Speed   Time    Time     Time  Current\n",
      "                                 Dload  Upload   Total   Spent    Left  Speed\n",
      "100   187  100   187    0     0   2595      0 --:--:-- --:--:-- --:--:--  2633\n"
     ]
    },
    {
     "name": "stdout",
     "output_type": "stream",
     "text": [
      "{\"version\":\"2.2.1\",\"taskQueueCount\":0,\"totalMemory\":809774592000,\"availableMemory\":630647992320,\"cpuCores\":80,\"maxImages\":null,\"maxParallelTasks\":2,\"engineVersion\":\"3.0.3\",\"engine\":\"odm\"}"
     ]
    }
   ],
   "source": [
    "%%bash\n",
    "curl http://nodeodm/info"
   ]
  },
  {
   "cell_type": "markdown",
   "id": "7c6b798a-9eee-4dbe-a5fa-202315ab4ccc",
   "metadata": {},
   "source": [
    "### 1.2. PyODM\n",
    "\n",
    "We can use [PyODM](https://github.com/OpenDroneMap/PyODM) to interact with the API."
   ]
  },
  {
   "cell_type": "code",
   "execution_count": 3,
   "id": "b87eb377-1f90-446c-893f-450ed4f49f99",
   "metadata": {},
   "outputs": [
    {
     "name": "stdout",
     "output_type": "stream",
     "text": [
      "{'version': '2.2.1', 'task_queue_count': 0, 'total_memory': 809774592000, 'available_memory': 630643826688, 'cpu_cores': 80, 'max_images': None, 'max_parallel_tasks': 2, 'engine': 'odm', 'engine_version': '3.0.3', 'odm_version': '?'}\n"
     ]
    }
   ],
   "source": [
    "node = Node.from_url(\"http://nodeodm\")\n",
    "print(node.info())"
   ]
  },
  {
   "cell_type": "markdown",
   "id": "55273a6f-5388-4955-aea6-b750c6af3d24",
   "metadata": {},
   "source": [
    "## 2. Orthomosaic images"
   ]
  },
  {
   "cell_type": "code",
   "execution_count": 4,
   "id": "ab7089de-10bf-4580-a16a-d5346e64c886",
   "metadata": {},
   "outputs": [],
   "source": [
    "# Path to raw images\n",
    "# image_fold = r\"/home/notebook/shared-seabee-ns9879k/seabirds/2022/Bergen_KalandsvannetGrasskjeret_20220525/images\"\n",
    "# image_fold = r\"/home/notebook/shared-seabee-ns9879k/seabirds/2022/Oslo_NorskGjenvinning_20220619/images\"\n",
    "image_fold = r\"/home/notebook/shared-seabee-ns9879k/seabirds/2022/Fedje_Fedjemyran_20220920/images\""
   ]
  },
  {
   "cell_type": "code",
   "execution_count": 5,
   "id": "d77d3287-19b6-45ab-883b-4d2c3b5389d1",
   "metadata": {},
   "outputs": [
    {
     "name": "stdout",
     "output_type": "stream",
     "text": [
      "1783 files to process with a total size of 15.30 GB.\n"
     ]
    }
   ],
   "source": [
    "# Get image paths\n",
    "image_fold = Path(image_fold)\n",
    "image_files = list(image_fold.glob(\"*.JPG\"))\n",
    "images_size = sum(f.stat().st_size for f in image_files) / 1e9\n",
    "print(f\"{len(image_files)} files to process with a total size of {images_size:.2f} GB.\")\n",
    "image_files = [str(i) for i in image_files]"
   ]
  },
  {
   "cell_type": "code",
   "execution_count": 6,
   "id": "3f016bf0-28b3-49a2-bc76-3bef61e4a1fe",
   "metadata": {},
   "outputs": [],
   "source": [
    "# Send task to NodeODM. Options are documented here:\n",
    "# https://docs.opendronemap.org/arguments/\n",
    "nodeodm_options = {\n",
    "    \"dsm\": True,\n",
    "    \"dtm\": True,\n",
    "    \"cog\": True,\n",
    "    \"orthophoto-compression\": \"LZW\",\n",
    "    \"orthophoto-resolution\": 1,  # cm/pixel. If set very small, output will be auto-limited by data to max sensible value\n",
    "    \"dem-resolution\": 1,  # cm/pixel. If set very small, output will be auto-limited by data to max sensible value\n",
    "    \"max-concurrency\": 16,\n",
    "    \"auto-boundary\": True,\n",
    "    \"feature-quality\": \"medium\",  # ultra | high | medium | low | lowest\n",
    "    \"pc-quality\": \"low\",  # ultra | high | medium | low | lowest\n",
    "    \"fast-orthophoto\": False,\n",
    "    \"split\": 100,\n",
    "    # \"split-overlap\": 50,\n",
    "}\n",
    "task = node.create_task(\n",
    "    image_files,\n",
    "    nodeodm_options,\n",
    ")"
   ]
  },
  {
   "cell_type": "markdown",
   "id": "4dd71610-9fb2-493d-add7-830d7a78af32",
   "metadata": {},
   "source": [
    "We can wait for the task to finish with `task.wait_for_completion()` (which blocks), but better to let it run in the background if you want to do other stuff. Alternatively, the code below provides a progress bar (but this also blocks)."
   ]
  },
  {
   "cell_type": "code",
   "execution_count": null,
   "id": "e918bbb9-f82c-4c1f-adc8-93ac87f46db0",
   "metadata": {
    "tags": []
   },
   "outputs": [
    {
     "data": {
      "application/vnd.jupyter.widget-view+json": {
       "model_id": "1d578127994545159fbb1bbd5fe37bb9",
       "version_major": 2,
       "version_minor": 0
      },
      "text/plain": [
       "  0%|          | 0/100 [00:00<?, ?it/s]"
      ]
     },
     "metadata": {},
     "output_type": "display_data"
    }
   ],
   "source": [
    "with tqdm(total=100) as pbar:\n",
    "    while (task.info().progress < 100) and (task.info().last_error == \"\"):\n",
    "        time.sleep(5)\n",
    "        cur_perc = int(task.info().progress)\n",
    "        pbar.update(cur_perc - pbar.n)\n",
    "    if task.info().last_error == \"\":\n",
    "        print(\n",
    "            f\"Completed successfully in {task.info().processing_time/60000:.1f} minutes.\"\n",
    "        )\n",
    "    else:\n",
    "        print(\"Failed with error:\")\n",
    "        print(task.info().last_error)"
   ]
  },
  {
   "cell_type": "code",
   "execution_count": null,
   "id": "4a222704-2f99-46da-9a65-0fee4ccf7ee4",
   "metadata": {},
   "outputs": [],
   "source": [
    "# # Some other useful commands\n",
    "\n",
    "# Get a task using uid\n",
    "# task = node.get_task('uid')\n",
    "\n",
    "# # Get task info\n",
    "# print(task.info())\n",
    "\n",
    "# # Cancel a task\n",
    "# task.cancel()\n",
    "\n",
    "# # Download results to subfolder 'results' in the notebook directory\n",
    "# task.download_assets(\"./results\")\n",
    "\n",
    "# # The task files are also available as a read-only folder\n",
    "# print(f\"/home/notebook/shared-seabee-ns9879k/nodeodm-workdir/{task.info().uuid}\")"
   ]
  }
 ],
 "metadata": {
  "kernelspec": {
   "display_name": "Python 3 (ipykernel)",
   "language": "python",
   "name": "python3"
  },
  "language_info": {
   "codemirror_mode": {
    "name": "ipython",
    "version": 3
   },
   "file_extension": ".py",
   "mimetype": "text/x-python",
   "name": "python",
   "nbconvert_exporter": "python",
   "pygments_lexer": "ipython3",
   "version": "3.10.6"
  }
 },
 "nbformat": 4,
 "nbformat_minor": 5
}
