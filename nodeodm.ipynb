{
 "cells": [
  {
   "cell_type": "markdown",
   "id": "e1445903-bd65-4a30-87d6-63fd9edcdd30",
   "metadata": {},
   "source": [
    "# [nodeODM](https://github.com/OpenDroneMap/NodeODM)\n",
    "\n",
    "We (sometimes) have nodeodm running as a service on `http://nodeodm`. This service is currently only reachable from the hub."
   ]
  },
  {
   "cell_type": "code",
   "execution_count": 70,
   "id": "5db08e1d-c8b5-4270-b3fa-ab4d22d7f32b",
   "metadata": {},
   "outputs": [
    {
     "name": "stderr",
     "output_type": "stream",
     "text": [
      "  % Total    % Received % Xferd  Average Speed   Time    Time     Time  Current\n",
      "                                 Dload  Upload   Total   Spent    Left  Speed\n",
      "100   187  100   187    0     0   1785      0 --:--:-- --:--:-- --:--:--  1798\n"
     ]
    },
    {
     "name": "stdout",
     "output_type": "stream",
     "text": [
      "{\"version\":\"2.2.0\",\"taskQueueCount\":0,\"totalMemory\":809782980608,\"availableMemory\":634810703872,\"cpuCores\":80,\"maxImages\":null,\"maxParallelTasks\":1,\"engineVersion\":\"3.0.2\",\"engine\":\"odm\"}"
     ]
    }
   ],
   "source": [
    "%%bash\n",
    "curl http://nodeodm/info"
   ]
  },
  {
   "cell_type": "markdown",
   "id": "7c6b798a-9eee-4dbe-a5fa-202315ab4ccc",
   "metadata": {},
   "source": [
    "We can use [pyodm](https://github.com/OpenDroneMap/PyODM) to interact with the api"
   ]
  },
  {
   "cell_type": "code",
   "execution_count": 99,
   "id": "987eed33-9e8f-4dea-9976-eea8d7b539cf",
   "metadata": {},
   "outputs": [],
   "source": [
    "from pyodm import Node\n",
    "import glob\n",
    "import os"
   ]
  },
  {
   "cell_type": "code",
   "execution_count": 72,
   "id": "b87eb377-1f90-446c-893f-450ed4f49f99",
   "metadata": {},
   "outputs": [],
   "source": [
    "node = Node.from_url(\"http://nodeodm\")"
   ]
  },
  {
   "cell_type": "code",
   "execution_count": 73,
   "id": "ab7089de-10bf-4580-a16a-d5346e64c886",
   "metadata": {},
   "outputs": [
    {
     "name": "stdout",
     "output_type": "stream",
     "text": [
      "{'version': '2.2.0', 'task_queue_count': 0, 'total_memory': 809782980608, 'available_memory': 634872819712, 'cpu_cores': 80, 'max_images': None, 'max_parallel_tasks': 1, 'engine': 'odm', 'engine_version': '3.0.2', 'odm_version': '?'}\n"
     ]
    }
   ],
   "source": [
    "print(node.info())"
   ]
  },
  {
   "cell_type": "code",
   "execution_count": 80,
   "id": "d03aa1ec-ab31-4241-9781-ba97d90690b3",
   "metadata": {},
   "outputs": [],
   "source": [
    "image_files = glob.glob(r'/home/notebook/shared-seabee-ns9879k/seabirds/2022/Bergen_Ulvenvannet_20220525/images/*.JPG')"
   ]
  },
  {
   "cell_type": "code",
   "execution_count": 81,
   "id": "d0e021b0-9dec-4724-903d-10c0f6040fdd",
   "metadata": {},
   "outputs": [
    {
     "data": {
      "text/plain": [
       "17"
      ]
     },
     "execution_count": 81,
     "metadata": {},
     "output_type": "execute_result"
    }
   ],
   "source": [
    "len(image_files)"
   ]
  },
  {
   "cell_type": "code",
   "execution_count": 92,
   "id": "3f016bf0-28b3-49a2-bc76-3bef61e4a1fe",
   "metadata": {},
   "outputs": [],
   "source": [
    "task = node.create_task(image_files, {'dsm': False, 'orthophoto-resolution': 5, 'cog':True, 'feature-quality':'low'})"
   ]
  },
  {
   "cell_type": "code",
   "execution_count": 93,
   "id": "be79f190-76b7-4959-8e2f-8a7f10666f16",
   "metadata": {},
   "outputs": [
    {
     "name": "stdout",
     "output_type": "stream",
     "text": [
      "{'uuid': 'b0e6037c-3f2b-425b-8376-94eeefc0addf', 'name': 'Task of 2023-01-06T09:11:10.163Z', 'date_created': datetime.datetime(2023, 1, 6, 9, 11, 10), 'processing_time': 574, 'status': <TaskStatus.RUNNING: 20>, 'last_error': '', 'options': [{'name': 'feature-quality', 'value': 'low'}, {'name': 'dsm', 'value': False}, {'name': 'orthophoto-resolution', 'value': 5}, {'name': 'cog', 'value': True}, {'name': 'pc-ept', 'value': True}], 'images_count': 17, 'progress': 0, 'output': []}\n"
     ]
    }
   ],
   "source": [
    "print(task.info())"
   ]
  },
  {
   "cell_type": "markdown",
   "id": "4dd71610-9fb2-493d-add7-830d7a78af32",
   "metadata": {},
   "source": [
    "We can wait for the task to finish"
   ]
  },
  {
   "cell_type": "code",
   "execution_count": 94,
   "id": "0c9a5e2f-1948-420c-9a15-323f3a1679f1",
   "metadata": {},
   "outputs": [
    {
     "name": "stdout",
     "output_type": "stream",
     "text": [
      "Task completed, downloading results...\n"
     ]
    }
   ],
   "source": [
    "task.wait_for_completion()\n",
    "print(\"Task completed, downloading results...\")\n",
    "task.download_assets('./results')"
   ]
  },
  {
   "cell_type": "markdown",
   "id": "83ed1a29-0f65-4663-beb0-2aaf4042adef",
   "metadata": {},
   "source": [
    "The task files is also available as a readOnly folder"
   ]
  },
  {
   "cell_type": "code",
   "execution_count": 109,
   "id": "32b3d475-8cb9-4db4-97f9-5ca63a944f99",
   "metadata": {},
   "outputs": [
    {
     "name": "stdout",
     "output_type": "stream",
     "text": [
      "/home/notebook/shared-seabee-ns9879k/nodeodm-workdir/b0e6037c-3f2b-425b-8376-94eeefc0addf\n"
     ]
    }
   ],
   "source": [
    "print(f'/home/notebook/shared-seabee-ns9879k/nodeodm-workdir/{task.info().uuid}')"
   ]
  }
 ],
 "metadata": {
  "kernelspec": {
   "display_name": "Python 3 (ipykernel)",
   "language": "python",
   "name": "python3"
  },
  "language_info": {
   "codemirror_mode": {
    "name": "ipython",
    "version": 3
   },
   "file_extension": ".py",
   "mimetype": "text/x-python",
   "name": "python",
   "nbconvert_exporter": "python",
   "pygments_lexer": "ipython3",
   "version": "3.10.6"
  }
 },
 "nbformat": 4,
 "nbformat_minor": 5
}
